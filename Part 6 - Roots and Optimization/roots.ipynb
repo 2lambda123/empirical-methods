{
 "cells": [
  {
   "cell_type": "markdown",
   "metadata": {},
   "source": [
    "## Root Finding (and Fixed Points)\n",
    "\n",
    "There are many many examples from economics we seek to either find the root or the fixed point to a non-linear of (often many) equations, which cannot be computed analytically.\n",
    "\n",
    "Many estimation algorithms for equilibrium problems involve a nested structure where there is some root-finding problem in the inner nest: BLP, dynamic discrete choice (rust, labor models), trade models, steady state of dynamic models.\n"
   ]
  },
  {
   "cell_type": "markdown",
   "metadata": {},
   "source": [
    "*Defn:* Roots.\n",
    "A function $g$ from $R^n$ to $R^n$ is given and one must find a vector $x$ that satisfies $x = g(x)$.\n",
    "\n",
    "<img src=\"files/graph1.png\" width=\"75%\"/>\n",
    "\n",
    "\n",
    "#### Examples\n",
    "\n",
    "- Demand and Supply market clearing.\n",
    "- FOCs from an optimization problem.\n",
    "\n",
    "\n",
    "### Iterative Methods\n",
    "\n",
    "We will consider methods that *systematically* look over the range of $x$ until $f(x) = 0$\n",
    "\n",
    "### Bisection Method\n",
    "\n",
    "Intermediate Value Theorem: If a continuous real-valued function assumes two distinct values, then it must assume all values in between. \n",
    "\n",
    "If $f$ is continuous and $f(a)$ and $f(b)$ have different signs, then there must be at least one root $x$ in $[a,b]$.\n",
    "\n",
    "Evaluate $f$ at the bisection of $a$ and $b$. Take the new interval to be the bisected interval with endpoints of different signs. Repeat. \n",
    "\n",
    "<img src=\"files/graph1.png\" width=\"75%\"/>\n",
    "\n",
    "#### Bisection Example"
   ]
  },
  {
   "cell_type": "code",
   "execution_count": 14,
   "metadata": {},
   "outputs": [],
   "source": [
    "# Set up packages\n",
    "using Printf\n"
   ]
  },
  {
   "cell_type": "code",
   "execution_count": 15,
   "metadata": {},
   "outputs": [
    {
     "data": {
      "text/plain": [
       "f (generic function with 1 method)"
      ]
     },
     "execution_count": 15,
     "metadata": {},
     "output_type": "execute_result"
    }
   ],
   "source": [
    "f(x) = x.^3"
   ]
  },
  {
   "cell_type": "code",
   "execution_count": 16,
   "metadata": {},
   "outputs": [],
   "source": [
    "a = -6.0;\n",
    "b = 12.0;"
   ]
  },
  {
   "cell_type": "code",
   "execution_count": 17,
   "metadata": {},
   "outputs": [],
   "source": [
    "tol = 1e-4;\n",
    "s = sign(f(a)); # sign if the left boundary\n",
    "x = (a+b)/2; # inital midpoint\n",
    "d = (b-a)/2;\n",
    "xsave=[];"
   ]
  },
  {
   "cell_type": "code",
   "execution_count": 20,
   "metadata": {},
   "outputs": [
    {
     "name": "stdout",
     "output_type": "stream",
     "text": [
      "Solution using user written code: x = -0.00002"
     ]
    }
   ],
   "source": [
    "while d>tol\n",
    "\td=d/2; # length to cut the next interval\n",
    "\tpush!(xsave, x)\n",
    "\tif s == sign(f(x))\n",
    "\t\tx = x+d;\n",
    "\telse\n",
    "\t\tx = x-d;\n",
    "\tend\n",
    "end\n",
    "push!(xsave,x)\n",
    "\n",
    "@printf \"Solution using user written code: x = %3.5f\" x"
   ]
  },
  {
   "cell_type": "markdown",
   "metadata": {},
   "source": [
    "**Pros and cons of bisection**\n",
    "\n",
    "* Pro: Guaranteed to find a root.\n",
    "* Con: Slow (no gradient information).\n",
    "* Con: Will only find one root.\n",
    "* Con: Only good for single variable functions\n",
    "* Con: Can be very slow b/c it does not use info on shape of function"
   ]
  },
  {
   "cell_type": "markdown",
   "metadata": {},
   "source": [
    "### Function iteration\n",
    "\n",
    "* Supply a guess $x^0$\n",
    "* Use the updating rule $x^{(t+1)} \\leftarrow g(x^(t))$.\n",
    " \n",
    "The starting guess must be close to the fixed point where $||g'(x*)||<1$\n",
    "\n",
    "\n",
    "<br><br><br><br>\n",
    "<img src=\"files/graph2.png\" width=\"75%\"/>\n",
    "<br><br><br><br>\n",
    "\n",
    "\n",
    "#### Example\n",
    "\n"
   ]
  },
  {
   "cell_type": "code",
   "execution_count": 26,
   "metadata": {},
   "outputs": [
    {
     "name": "stdout",
     "output_type": "stream",
     "text": [
      "Solution using user written code: x = 0.99993"
     ]
    }
   ],
   "source": [
    "\n",
    "function fncIteration(g::Function,x::Float64)\n",
    "\n",
    "    d = 100.0\n",
    "    x = 0.1\n",
    "\n",
    "    while d>tol\n",
    "    \n",
    "        d = abs(x-g(x))\n",
    "        x = g(x)\n",
    "    \n",
    "    end\n",
    "\n",
    "    return x\n",
    "end\n",
    "\n",
    "g(x) = x.^0.5;\n",
    "x = 0.1\n",
    "\n",
    "sol = fncIteration(g,x)\n",
    "\n",
    "@printf \"Solution using user written code: x = %3.5f\" sol"
   ]
  },
  {
   "cell_type": "markdown",
   "metadata": {},
   "source": [
    "\n",
    "<br><br><br><br>\n",
    "<video width=\"640\" height=\"480\" controls>\n",
    "<source src=\"testmovie-below.mp4\" type=\"video/mp4\">\n",
    "</video>\n",
    "<br><br><br><br>\n"
   ]
  },
  {
   "cell_type": "markdown",
   "metadata": {},
   "source": [
    "### Newton's Method\n",
    "\n",
    "* Use derivative information\n",
    "* Probably most common method.\n",
    "* Sometimes we know the derivative (pen a paper).\n",
    "* Sometimes we need to approximate the derivative.\n",
    "* Same thing goes with second derivatives. \n",
    "\n",
    "*The idea:*\n",
    "\n",
    "1. guess a point\n",
    "2. linearize the function around that point \n",
    "3. find the root of the linear function using taylor expansion\n",
    "4. use that point as your new guess and repeat\n",
    "\n",
    "\n",
    "\n",
    "<br><br><br><br>\n",
    "<img src=\"files/graph3.png\" width=\"25%\"/>\n",
    "<br><br><br><br>\n",
    "\n",
    "\n",
    "\n",
    "\n",
    "First-order Taylor approximation: $f(x)\\approx f(x^t) + f'(x^t)(x - x^t) = 0$\n",
    "\n",
    "which yields the following iteration rule: $x^{t+1}\\leftarrow x^t - [f'(x^t)]^{-1}f(x^t)$\n",
    "\n",
    "* *What do you notice about this iterative method?*\n",
    "* We need to know the derivative!\n",
    "* We will discuss this in detail later.\n",
    "\n",
    "\n",
    "*Convergence*: Judd Theorem 2.1 (page 130) -- If $x^1$ is \"sufficiently\" close\n",
    "to $x^*$, $f'(x^*)\\ne0$ and $\\mid \\frac{f''(x^*)}{f'(x^*)}<\\infty$, then the Newton\n",
    "sequence will converge to $x^*$. Also, $f$ needs to be \"smooth.\"\n",
    "\n",
    "* Warning: if $f'(x^t)$ is close to zero, then it can overshoot and cause problems\n",
    "\n",
    "\n",
    "\n",
    "#### Newton Example\n",
    "\n",
    "Simple demand function in a separate file:\n"
   ]
  },
  {
   "cell_type": "code",
   "execution_count": 30,
   "metadata": {},
   "outputs": [],
   "source": [
    "# Demand\n",
    "q(p) = -12 + 2*p.^(-3);\n",
    "\n",
    "# 1st derivative of demand\n",
    "Dq(p) = -6*p.^(-4);\n"
   ]
  },
  {
   "cell_type": "code",
   "execution_count": 34,
   "metadata": {},
   "outputs": [
    {
     "data": {
      "text/plain": [
       "nm (generic function with 2 methods)"
      ]
     },
     "execution_count": 34,
     "metadata": {},
     "output_type": "execute_result"
    }
   ],
   "source": [
    "function nm(f::Function, fp::Function, x::Float64; tol=0.0001::Float64)\n",
    "   \n",
    "    ctr, max_steps = 0, 100\n",
    "     \n",
    "    while (abs(f(x)) > tol) && ctr < max_steps\n",
    "        x = x - f(x) / fp(x)\n",
    "        ctr = ctr + 1\n",
    "    end\n",
    "\n",
    "    ctr >= max_steps ? error(\"Method did not converge\") : return (x, ctr)\n",
    "    \n",
    "end\n",
    "\n"
   ]
  },
  {
   "cell_type": "code",
   "execution_count": 35,
   "metadata": {},
   "outputs": [
    {
     "name": "stdout",
     "output_type": "stream",
     "text": [
      "Solution using user written code: x = "
     ]
    },
    {
     "ename": "LoadError",
     "evalue": "\u001b[91mMethodError: no method matching isfinite(::Tuple{Float64,Int64})\u001b[39m\n\u001b[91m\u001b[0mClosest candidates are:\u001b[39m\n\u001b[91m\u001b[0m  isfinite(\u001b[91m::BigFloat\u001b[39m) at mpfr.jl:885\u001b[39m\n\u001b[91m\u001b[0m  isfinite(\u001b[91m::Missing\u001b[39m) at missing.jl:100\u001b[39m\n\u001b[91m\u001b[0m  isfinite(\u001b[91m::Float16\u001b[39m) at float.jl:555\u001b[39m\n\u001b[91m\u001b[0m  ...\u001b[39m",
     "output_type": "error",
     "traceback": [
      "\u001b[91mMethodError: no method matching isfinite(::Tuple{Float64,Int64})\u001b[39m\n\u001b[91m\u001b[0mClosest candidates are:\u001b[39m\n\u001b[91m\u001b[0m  isfinite(\u001b[91m::BigFloat\u001b[39m) at mpfr.jl:885\u001b[39m\n\u001b[91m\u001b[0m  isfinite(\u001b[91m::Missing\u001b[39m) at missing.jl:100\u001b[39m\n\u001b[91m\u001b[0m  isfinite(\u001b[91m::Float16\u001b[39m) at float.jl:555\u001b[39m\n\u001b[91m\u001b[0m  ...\u001b[39m",
      "",
      "Stacktrace:",
      " [1] top-level scope at In[35]:3",
      " [2] include_string(::Function, ::Module, ::String, ::String) at ./loading.jl:1091"
     ]
    }
   ],
   "source": [
    "sol_nm = nm(q,Dq,0.1)\n",
    "\n",
    "@printf \"Solution using user written code: x = %3.5f\" sol_nm"
   ]
  },
  {
   "cell_type": "code",
   "execution_count": null,
   "metadata": {},
   "outputs": [],
   "source": []
  }
 ],
 "metadata": {
  "kernelspec": {
   "display_name": "Julia 1.5.4",
   "language": "julia",
   "name": "julia-1.5"
  },
  "language_info": {
   "file_extension": ".jl",
   "mimetype": "application/julia",
   "name": "julia",
   "version": "1.5.4"
  }
 },
 "nbformat": 4,
 "nbformat_minor": 2
}
